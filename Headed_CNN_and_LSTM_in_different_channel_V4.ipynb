{
  "nbformat": 4,
  "nbformat_minor": 0,
  "metadata": {
    "accelerator": "GPU",
    "colab": {
      "name": "Headed CNN and LSTM in different channel V4.ipynb",
      "provenance": [],
      "collapsed_sections": [],
      "toc_visible": true,
      "authorship_tag": "ABX9TyM7tpASCcb/w6fg6LZbYCb0",
      "include_colab_link": true
    },
    "kernelspec": {
      "display_name": "Python 3",
      "name": "python3"
    },
    "language_info": {
      "name": "python"
    }
  },
  "cells": [
    {
      "cell_type": "markdown",
      "metadata": {
        "id": "view-in-github",
        "colab_type": "text"
      },
      "source": [
        "<a href=\"https://colab.research.google.com/github/m-r-tanha/Azure-Projects/blob/main/Headed_CNN_and_LSTM_in_different_channel_V4.ipynb\" target=\"_parent\"><img src=\"https://colab.research.google.com/assets/colab-badge.svg\" alt=\"Open In Colab\"/></a>"
      ]
    },
    {
      "cell_type": "markdown",
      "metadata": {
        "id": "_lN2Kkl-j1a3"
      },
      "source": [
        ""
      ]
    },
    {
      "cell_type": "markdown",
      "metadata": {
        "id": "X5m__wNEj4QS"
      },
      "source": [
        "Each Layer being a column for the next layer"
      ]
    },
    {
      "cell_type": "code",
      "metadata": {
        "colab": {
          "resources": {
            "http://localhost:8080/nbextensions/google.colab/files.js": {
              "data": "Ly8gQ29weXJpZ2h0IDIwMTcgR29vZ2xlIExMQwovLwovLyBMaWNlbnNlZCB1bmRlciB0aGUgQXBhY2hlIExpY2Vuc2UsIFZlcnNpb24gMi4wICh0aGUgIkxpY2Vuc2UiKTsKLy8geW91IG1heSBub3QgdXNlIHRoaXMgZmlsZSBleGNlcHQgaW4gY29tcGxpYW5jZSB3aXRoIHRoZSBMaWNlbnNlLgovLyBZb3UgbWF5IG9idGFpbiBhIGNvcHkgb2YgdGhlIExpY2Vuc2UgYXQKLy8KLy8gICAgICBodHRwOi8vd3d3LmFwYWNoZS5vcmcvbGljZW5zZXMvTElDRU5TRS0yLjAKLy8KLy8gVW5sZXNzIHJlcXVpcmVkIGJ5IGFwcGxpY2FibGUgbGF3IG9yIGFncmVlZCB0byBpbiB3cml0aW5nLCBzb2Z0d2FyZQovLyBkaXN0cmlidXRlZCB1bmRlciB0aGUgTGljZW5zZSBpcyBkaXN0cmlidXRlZCBvbiBhbiAiQVMgSVMiIEJBU0lTLAovLyBXSVRIT1VUIFdBUlJBTlRJRVMgT1IgQ09ORElUSU9OUyBPRiBBTlkgS0lORCwgZWl0aGVyIGV4cHJlc3Mgb3IgaW1wbGllZC4KLy8gU2VlIHRoZSBMaWNlbnNlIGZvciB0aGUgc3BlY2lmaWMgbGFuZ3VhZ2UgZ292ZXJuaW5nIHBlcm1pc3Npb25zIGFuZAovLyBsaW1pdGF0aW9ucyB1bmRlciB0aGUgTGljZW5zZS4KCi8qKgogKiBAZmlsZW92ZXJ2aWV3IEhlbHBlcnMgZm9yIGdvb2dsZS5jb2xhYiBQeXRob24gbW9kdWxlLgogKi8KKGZ1bmN0aW9uKHNjb3BlKSB7CmZ1bmN0aW9uIHNwYW4odGV4dCwgc3R5bGVBdHRyaWJ1dGVzID0ge30pIHsKICBjb25zdCBlbGVtZW50ID0gZG9jdW1lbnQuY3JlYXRlRWxlbWVudCgnc3BhbicpOwogIGVsZW1lbnQudGV4dENvbnRlbnQgPSB0ZXh0OwogIGZvciAoY29uc3Qga2V5IG9mIE9iamVjdC5rZXlzKHN0eWxlQXR0cmlidXRlcykpIHsKICAgIGVsZW1lbnQuc3R5bGVba2V5XSA9IHN0eWxlQXR0cmlidXRlc1trZXldOwogIH0KICByZXR1cm4gZWxlbWVudDsKfQoKLy8gTWF4IG51bWJlciBvZiBieXRlcyB3aGljaCB3aWxsIGJlIHVwbG9hZGVkIGF0IGEgdGltZS4KY29uc3QgTUFYX1BBWUxPQURfU0laRSA9IDEwMCAqIDEwMjQ7CgpmdW5jdGlvbiBfdXBsb2FkRmlsZXMoaW5wdXRJZCwgb3V0cHV0SWQpIHsKICBjb25zdCBzdGVwcyA9IHVwbG9hZEZpbGVzU3RlcChpbnB1dElkLCBvdXRwdXRJZCk7CiAgY29uc3Qgb3V0cHV0RWxlbWVudCA9IGRvY3VtZW50LmdldEVsZW1lbnRCeUlkKG91dHB1dElkKTsKICAvLyBDYWNoZSBzdGVwcyBvbiB0aGUgb3V0cHV0RWxlbWVudCB0byBtYWtlIGl0IGF2YWlsYWJsZSBmb3IgdGhlIG5leHQgY2FsbAogIC8vIHRvIHVwbG9hZEZpbGVzQ29udGludWUgZnJvbSBQeXRob24uCiAgb3V0cHV0RWxlbWVudC5zdGVwcyA9IHN0ZXBzOwoKICByZXR1cm4gX3VwbG9hZEZpbGVzQ29udGludWUob3V0cHV0SWQpOwp9CgovLyBUaGlzIGlzIHJvdWdobHkgYW4gYXN5bmMgZ2VuZXJhdG9yIChub3Qgc3VwcG9ydGVkIGluIHRoZSBicm93c2VyIHlldCksCi8vIHdoZXJlIHRoZXJlIGFyZSBtdWx0aXBsZSBhc3luY2hyb25vdXMgc3RlcHMgYW5kIHRoZSBQeXRob24gc2lkZSBpcyBnb2luZwovLyB0byBwb2xsIGZvciBjb21wbGV0aW9uIG9mIGVhY2ggc3RlcC4KLy8gVGhpcyB1c2VzIGEgUHJvbWlzZSB0byBibG9jayB0aGUgcHl0aG9uIHNpZGUgb24gY29tcGxldGlvbiBvZiBlYWNoIHN0ZXAsCi8vIHRoZW4gcGFzc2VzIHRoZSByZXN1bHQgb2YgdGhlIHByZXZpb3VzIHN0ZXAgYXMgdGhlIGlucHV0IHRvIHRoZSBuZXh0IHN0ZXAuCmZ1bmN0aW9uIF91cGxvYWRGaWxlc0NvbnRpbnVlKG91dHB1dElkKSB7CiAgY29uc3Qgb3V0cHV0RWxlbWVudCA9IGRvY3VtZW50LmdldEVsZW1lbnRCeUlkKG91dHB1dElkKTsKICBjb25zdCBzdGVwcyA9IG91dHB1dEVsZW1lbnQuc3RlcHM7CgogIGNvbnN0IG5leHQgPSBzdGVwcy5uZXh0KG91dHB1dEVsZW1lbnQubGFzdFByb21pc2VWYWx1ZSk7CiAgcmV0dXJuIFByb21pc2UucmVzb2x2ZShuZXh0LnZhbHVlLnByb21pc2UpLnRoZW4oKHZhbHVlKSA9PiB7CiAgICAvLyBDYWNoZSB0aGUgbGFzdCBwcm9taXNlIHZhbHVlIHRvIG1ha2UgaXQgYXZhaWxhYmxlIHRvIHRoZSBuZXh0CiAgICAvLyBzdGVwIG9mIHRoZSBnZW5lcmF0b3IuCiAgICBvdXRwdXRFbGVtZW50Lmxhc3RQcm9taXNlVmFsdWUgPSB2YWx1ZTsKICAgIHJldHVybiBuZXh0LnZhbHVlLnJlc3BvbnNlOwogIH0pOwp9CgovKioKICogR2VuZXJhdG9yIGZ1bmN0aW9uIHdoaWNoIGlzIGNhbGxlZCBiZXR3ZWVuIGVhY2ggYXN5bmMgc3RlcCBvZiB0aGUgdXBsb2FkCiAqIHByb2Nlc3MuCiAqIEBwYXJhbSB7c3RyaW5nfSBpbnB1dElkIEVsZW1lbnQgSUQgb2YgdGhlIGlucHV0IGZpbGUgcGlja2VyIGVsZW1lbnQuCiAqIEBwYXJhbSB7c3RyaW5nfSBvdXRwdXRJZCBFbGVtZW50IElEIG9mIHRoZSBvdXRwdXQgZGlzcGxheS4KICogQHJldHVybiB7IUl0ZXJhYmxlPCFPYmplY3Q+fSBJdGVyYWJsZSBvZiBuZXh0IHN0ZXBzLgogKi8KZnVuY3Rpb24qIHVwbG9hZEZpbGVzU3RlcChpbnB1dElkLCBvdXRwdXRJZCkgewogIGNvbnN0IGlucHV0RWxlbWVudCA9IGRvY3VtZW50LmdldEVsZW1lbnRCeUlkKGlucHV0SWQpOwogIGlucHV0RWxlbWVudC5kaXNhYmxlZCA9IGZhbHNlOwoKICBjb25zdCBvdXRwdXRFbGVtZW50ID0gZG9jdW1lbnQuZ2V0RWxlbWVudEJ5SWQob3V0cHV0SWQpOwogIG91dHB1dEVsZW1lbnQuaW5uZXJIVE1MID0gJyc7CgogIGNvbnN0IHBpY2tlZFByb21pc2UgPSBuZXcgUHJvbWlzZSgocmVzb2x2ZSkgPT4gewogICAgaW5wdXRFbGVtZW50LmFkZEV2ZW50TGlzdGVuZXIoJ2NoYW5nZScsIChlKSA9PiB7CiAgICAgIHJlc29sdmUoZS50YXJnZXQuZmlsZXMpOwogICAgfSk7CiAgfSk7CgogIGNvbnN0IGNhbmNlbCA9IGRvY3VtZW50LmNyZWF0ZUVsZW1lbnQoJ2J1dHRvbicpOwogIGlucHV0RWxlbWVudC5wYXJlbnRFbGVtZW50LmFwcGVuZENoaWxkKGNhbmNlbCk7CiAgY2FuY2VsLnRleHRDb250ZW50ID0gJ0NhbmNlbCB1cGxvYWQnOwogIGNvbnN0IGNhbmNlbFByb21pc2UgPSBuZXcgUHJvbWlzZSgocmVzb2x2ZSkgPT4gewogICAgY2FuY2VsLm9uY2xpY2sgPSAoKSA9PiB7CiAgICAgIHJlc29sdmUobnVsbCk7CiAgICB9OwogIH0pOwoKICAvLyBXYWl0IGZvciB0aGUgdXNlciB0byBwaWNrIHRoZSBmaWxlcy4KICBjb25zdCBmaWxlcyA9IHlpZWxkIHsKICAgIHByb21pc2U6IFByb21pc2UucmFjZShbcGlja2VkUHJvbWlzZSwgY2FuY2VsUHJvbWlzZV0pLAogICAgcmVzcG9uc2U6IHsKICAgICAgYWN0aW9uOiAnc3RhcnRpbmcnLAogICAgfQogIH07CgogIGNhbmNlbC5yZW1vdmUoKTsKCiAgLy8gRGlzYWJsZSB0aGUgaW5wdXQgZWxlbWVudCBzaW5jZSBmdXJ0aGVyIHBpY2tzIGFyZSBub3QgYWxsb3dlZC4KICBpbnB1dEVsZW1lbnQuZGlzYWJsZWQgPSB0cnVlOwoKICBpZiAoIWZpbGVzKSB7CiAgICByZXR1cm4gewogICAgICByZXNwb25zZTogewogICAgICAgIGFjdGlvbjogJ2NvbXBsZXRlJywKICAgICAgfQogICAgfTsKICB9CgogIGZvciAoY29uc3QgZmlsZSBvZiBmaWxlcykgewogICAgY29uc3QgbGkgPSBkb2N1bWVudC5jcmVhdGVFbGVtZW50KCdsaScpOwogICAgbGkuYXBwZW5kKHNwYW4oZmlsZS5uYW1lLCB7Zm9udFdlaWdodDogJ2JvbGQnfSkpOwogICAgbGkuYXBwZW5kKHNwYW4oCiAgICAgICAgYCgke2ZpbGUudHlwZSB8fCAnbi9hJ30pIC0gJHtmaWxlLnNpemV9IGJ5dGVzLCBgICsKICAgICAgICBgbGFzdCBtb2RpZmllZDogJHsKICAgICAgICAgICAgZmlsZS5sYXN0TW9kaWZpZWREYXRlID8gZmlsZS5sYXN0TW9kaWZpZWREYXRlLnRvTG9jYWxlRGF0ZVN0cmluZygpIDoKICAgICAgICAgICAgICAgICAgICAgICAgICAgICAgICAgICAgJ24vYSd9IC0gYCkpOwogICAgY29uc3QgcGVyY2VudCA9IHNwYW4oJzAlIGRvbmUnKTsKICAgIGxpLmFwcGVuZENoaWxkKHBlcmNlbnQpOwoKICAgIG91dHB1dEVsZW1lbnQuYXBwZW5kQ2hpbGQobGkpOwoKICAgIGNvbnN0IGZpbGVEYXRhUHJvbWlzZSA9IG5ldyBQcm9taXNlKChyZXNvbHZlKSA9PiB7CiAgICAgIGNvbnN0IHJlYWRlciA9IG5ldyBGaWxlUmVhZGVyKCk7CiAgICAgIHJlYWRlci5vbmxvYWQgPSAoZSkgPT4gewogICAgICAgIHJlc29sdmUoZS50YXJnZXQucmVzdWx0KTsKICAgICAgfTsKICAgICAgcmVhZGVyLnJlYWRBc0FycmF5QnVmZmVyKGZpbGUpOwogICAgfSk7CiAgICAvLyBXYWl0IGZvciB0aGUgZGF0YSB0byBiZSByZWFkeS4KICAgIGxldCBmaWxlRGF0YSA9IHlpZWxkIHsKICAgICAgcHJvbWlzZTogZmlsZURhdGFQcm9taXNlLAogICAgICByZXNwb25zZTogewogICAgICAgIGFjdGlvbjogJ2NvbnRpbnVlJywKICAgICAgfQogICAgfTsKCiAgICAvLyBVc2UgYSBjaHVua2VkIHNlbmRpbmcgdG8gYXZvaWQgbWVzc2FnZSBzaXplIGxpbWl0cy4gU2VlIGIvNjIxMTU2NjAuCiAgICBsZXQgcG9zaXRpb24gPSAwOwogICAgZG8gewogICAgICBjb25zdCBsZW5ndGggPSBNYXRoLm1pbihmaWxlRGF0YS5ieXRlTGVuZ3RoIC0gcG9zaXRpb24sIE1BWF9QQVlMT0FEX1NJWkUpOwogICAgICBjb25zdCBjaHVuayA9IG5ldyBVaW50OEFycmF5KGZpbGVEYXRhLCBwb3NpdGlvbiwgbGVuZ3RoKTsKICAgICAgcG9zaXRpb24gKz0gbGVuZ3RoOwoKICAgICAgY29uc3QgYmFzZTY0ID0gYnRvYShTdHJpbmcuZnJvbUNoYXJDb2RlLmFwcGx5KG51bGwsIGNodW5rKSk7CiAgICAgIHlpZWxkIHsKICAgICAgICByZXNwb25zZTogewogICAgICAgICAgYWN0aW9uOiAnYXBwZW5kJywKICAgICAgICAgIGZpbGU6IGZpbGUubmFtZSwKICAgICAgICAgIGRhdGE6IGJhc2U2NCwKICAgICAgICB9LAogICAgICB9OwoKICAgICAgbGV0IHBlcmNlbnREb25lID0gZmlsZURhdGEuYnl0ZUxlbmd0aCA9PT0gMCA/CiAgICAgICAgICAxMDAgOgogICAgICAgICAgTWF0aC5yb3VuZCgocG9zaXRpb24gLyBmaWxlRGF0YS5ieXRlTGVuZ3RoKSAqIDEwMCk7CiAgICAgIHBlcmNlbnQudGV4dENvbnRlbnQgPSBgJHtwZXJjZW50RG9uZX0lIGRvbmVgOwoKICAgIH0gd2hpbGUgKHBvc2l0aW9uIDwgZmlsZURhdGEuYnl0ZUxlbmd0aCk7CiAgfQoKICAvLyBBbGwgZG9uZS4KICB5aWVsZCB7CiAgICByZXNwb25zZTogewogICAgICBhY3Rpb246ICdjb21wbGV0ZScsCiAgICB9CiAgfTsKfQoKc2NvcGUuZ29vZ2xlID0gc2NvcGUuZ29vZ2xlIHx8IHt9OwpzY29wZS5nb29nbGUuY29sYWIgPSBzY29wZS5nb29nbGUuY29sYWIgfHwge307CnNjb3BlLmdvb2dsZS5jb2xhYi5fZmlsZXMgPSB7CiAgX3VwbG9hZEZpbGVzLAogIF91cGxvYWRGaWxlc0NvbnRpbnVlLAp9Owp9KShzZWxmKTsK",
              "ok": true,
              "headers": [
                [
                  "content-type",
                  "application/javascript"
                ]
              ],
              "status": 200,
              "status_text": ""
            }
          },
          "base_uri": "https://localhost:8080/",
          "height": 86
        },
        "id": "Dkv1JwXBh-4c",
        "outputId": "257b5160-122a-4507-a9db-edf8b5e31c36"
      },
      "source": [
        "from math import sqrt\n",
        "from numpy import split\n",
        "from numpy import array\n",
        "from pandas import read_csv\n",
        "from sklearn.metrics import mean_squared_error\n",
        "from matplotlib import pyplot\n",
        "from keras.utils.vis_utils import plot_model\n",
        "from keras.layers import Dense\n",
        "from keras.layers import Flatten\n",
        "from keras.layers.convolutional import Conv1D\n",
        "from keras.layers.convolutional import MaxPooling1D\n",
        "from keras.models import Model\n",
        "from keras.layers import Input\n",
        "from keras.layers.merge import concatenate\n",
        "import tensorflow as tf\n",
        "import pandas as pd\n",
        "from sklearn import preprocessing\n",
        "import matplotlib.pyplot as plt\n",
        "from sklearn.preprocessing import scale, normalize, minmax_scale\n",
        "#from tensorflow.contrib import rnn\n",
        "#from tensorflow.contrib.layers.python.layers import batch_norm as batch_norm\n",
        "from keras.models import Sequential\n",
        "from keras.layers import Dense, LSTM, Dropout, RNN, GRU\n",
        "import numpy as np\n",
        "from google.colab import files\n",
        "import io\n",
        "#from tensorboardcolab import TensorBoardColab, TensorBoardColabCallback\n",
        "from keras.utils import np_utils\n",
        "from keras.layers import BatchNormalization\n",
        "from sklearn.model_selection import train_test_split\n",
        "\n",
        "uploaded = files.upload()\n",
        "\n",
        "for fn in uploaded.keys():\n",
        "  print('User uploaded file \"{name}\" with length {length} bytes'.format(\n",
        "      name=fn, length=len(uploaded[fn])))"
      ],
      "execution_count": 1,
      "outputs": [
        {
          "output_type": "display_data",
          "data": {
            "text/html": [
              "\n",
              "     <input type=\"file\" id=\"files-d6d674e0-b98c-4dbf-87bd-87c0154da4b3\" name=\"files[]\" multiple disabled\n",
              "        style=\"border:none\" />\n",
              "     <output id=\"result-d6d674e0-b98c-4dbf-87bd-87c0154da4b3\">\n",
              "      Upload widget is only available when the cell has been executed in the\n",
              "      current browser session. Please rerun this cell to enable.\n",
              "      </output>\n",
              "      <script src=\"/nbextensions/google.colab/files.js\"></script> "
            ],
            "text/plain": [
              "<IPython.core.display.HTML object>"
            ]
          },
          "metadata": {
            "tags": []
          }
        },
        {
          "output_type": "stream",
          "text": [
            "Saving Main City in Huwaei from 2019.xlsx to Main City in Huwaei from 2019.xlsx\n",
            "User uploaded file \"Main City in Huwaei from 2019.xlsx\" with length 12346436 bytes\n"
          ],
          "name": "stdout"
        }
      ]
    },
    {
      "cell_type": "code",
      "metadata": {
        "id": "wFPnQ8xRjC0v"
      },
      "source": [
        "import scipy\n",
        "from keras.layers import Flatten, TimeDistributed\n",
        "from keras.layers.convolutional import Conv1D, Conv1D\n",
        "from sklearn.preprocessing import MinMaxScaler\n",
        "import numpy as np\n",
        "import tensorflow as tf\n",
        "import pandas as pd\n",
        "from numpy import mean\n",
        "from numpy import std\n",
        "from keras import regularizers\n",
        "from keras.layers import BatchNormalization"
      ],
      "execution_count": 2,
      "outputs": []
    },
    {
      "cell_type": "code",
      "metadata": {
        "colab": {
          "base_uri": "https://localhost:8080/"
        },
        "id": "_DpNgCoziG0S",
        "outputId": "e7e6c8c6-7c5a-454b-cce5-046d655630b6"
      },
      "source": [
        "tf.compat.v1.random.set_random_seed(42)\n",
        "np.random.seed(42)\n",
        "tf.compat.v1.disable_v2_behavior() \n",
        "tf.compat.v1.reset_default_graph()\n",
        "\n",
        "TIME_STEPS= 1 \n",
        "n_seq = 1\n",
        "#n_steps = 2\n",
        "Target = 'THRPUT_UE_DL'\n",
        "\n",
        "def Min_Max_Sc(df_x, df_y):\n",
        "    \n",
        "\n",
        "    scaler = MinMaxScaler(feature_range = (0,1))\n",
        "    input_scaler = scaler.fit(df_x)\n",
        "    output_scaler = scaler.fit(df_y)\n",
        "    df_x_sc = input_scaler.transform(df_x)\n",
        "    df_y_sc = input_scaler.transform(df_y)\n",
        "    #dff_sc_invers= input_scaler.inverse_transform(sc_data)\n",
        "    return df_x_sc, df_y_sc\n",
        "\n",
        "def inv_Min_Max_Sc(y):\n",
        "    scaler = MinMaxScaler(feature_range = (-1,1))\n",
        "    output_scaler = scaler.fit(y)\n",
        "    y_actual = scaler.inverse_transform(y)\n",
        "\n",
        "def Data(raw_data,Target):\n",
        "    #TIME_STEPS = 6\n",
        "    raw_data.to_excel('alldata.xlsx')\n",
        "    raw_data1= raw_data.copy()\n",
        "    df_y = raw_data1[Target]\n",
        "    df_x = raw_data1.drop(Target,axis =1)\n",
        "    def replace_missing (attribute):\n",
        "        return attribute.interpolate(inplace=True)\n",
        "\n",
        "    def split_sequences(df_x, df_y, TIME_STEPS):\n",
        "        X, y = list(), list()\n",
        "        #for j in range (TIME_STEPS-1):\n",
        "          #y.append(0)\n",
        "        for i in range(len(df_x)):\n",
        "        # find the end of this pattern\n",
        "            end_ix = i + TIME_STEPS\n",
        "        # check if we are beyond the dataset\n",
        "            if end_ix > len(df_x):\n",
        "                break\n",
        "        # gather input and output parts of the pattern\n",
        "            seq_x = df_x.iloc[i:end_ix, :]\n",
        "            seq_y = df_y.iloc[end_ix-1]\n",
        "\n",
        "            X.append(seq_x)\n",
        "            y.append(seq_y)\n",
        "        return array(X), array(y)\n",
        "    \n",
        "    df_y = pd.DataFrame(df_y)\n",
        "    df_x.rename(index=df_x.PERIOD_START_TIME, inplace=True)\n",
        "    df_x.drop('NE',axis=1,inplace=True)\n",
        "    df_x.drop('PERIOD_START_TIME',axis=1,inplace=True)\n",
        "    df_x, df_y = Min_Max_Sc(df_x, df_y)\n",
        "    df_x = pd.DataFrame(df_x)\n",
        "    df_y = pd.DataFrame(df_y)\n",
        "    for i in range (df_x.columns.size):\n",
        "        replace_missing(df_x[df_x.columns[i]])\n",
        "        replace_missing(df_y)\n",
        "\n",
        "   \n",
        "    # Split train data and test data\n",
        "    train_size = int(len(df_x)*0.8)\n",
        "    X, Y = split_sequences(df_x,df_y,TIME_STEPS)\n",
        "    Yall = pd.DataFrame(Y)\n",
        "    (pd.DataFrame(X[0,:,:])).to_excel(\"X.xlsx\")\n",
        "    pd.DataFrame(Yall.iloc[0]).to_excel(\"Y.xlsx\")\n",
        "    \n",
        "    X_train, X_test = X[:train_size], X[train_size:]\n",
        "    Y_train, Y_test = Y[:train_size], Y[train_size:]\n",
        "    \n",
        "\n",
        "    # print('X_train.shape: ', X_train.shape)\n",
        "    # print('y_train.shape: ', Y_train.shape)\n",
        "    # print('X_test.shape: ', X_test.shape)\n",
        "    # print('y_test.shape: ', Y_test.shape)\n",
        "    return X_train, X_test, Y_train, Y_test\n",
        "\n",
        "\n",
        "path_p = \"Main City in Huwaei from 2019.xlsx\"\n",
        "df_orig= pd.read_excel(path_p,'Tabriz')\n",
        "df0 = df_orig.copy()\n",
        "df0.replace([np.inf, -np.inf], np.nan, inplace=True)\n",
        "df0.fillna(0, inplace = True)\n",
        "df_yy = df0[Target]\n",
        "\n",
        "def Corre (df, Target):\n",
        "\n",
        "    df_corl1 = df.copy()\n",
        "    df_corl2 = df.copy()\n",
        "    df_corl3 = df.copy()\n",
        "    df_corl4 = df.copy()\n",
        "    df_temp = df.copy()\n",
        "    co = list()\n",
        "    cor_list1 = list()\n",
        "    cor_list2 = list()\n",
        "    cor_list3 = list()\n",
        "    cor_list4 = list()\n",
        "\n",
        "\n",
        "    df.rename(index=df.PERIOD_START_TIME, inplace=True)\n",
        "    df.drop('NE',axis=1,inplace=True)\n",
        "    df.drop('PERIOD_START_TIME',axis=1,inplace=True)        \n",
        "   \n",
        "    dfff = df[Target] \n",
        "    df.drop(Target,axis =1, inplace = True)\n",
        "    for i in range(len(df.columns)) :\n",
        "         co.append(scipy.stats.pearsonr(df.iloc[:,i], dfff)[0])\n",
        "    \n",
        "    co=pd.DataFrame(co)\n",
        "    co_a = co.T\n",
        "    co_a.columns = df.columns    \n",
        "    add_time_NE = ['PERIOD_START_TIME','NE']\n",
        "    \n",
        "    '''\n",
        "    \n",
        "    for j in range(co_a.size):\n",
        "        if abs(co_a.iloc[0,j] ) > 0.75:\n",
        "            cor_list1.append( co_a.columns[j])\n",
        "        elif abs(co_a.iloc[0,j] ) > 0.5 and abs(co_a.iloc[0,j] ) < 0.75:\n",
        "            cor_list2.append((co_a.columns[j]))\n",
        "        elif abs(co_a.iloc[0,j] ) > 0.3 and abs(co_a.iloc[0,j] ) < 0.5:\n",
        "            cor_list3.append((co_a.columns[j]))\n",
        "        elif abs(co_a.iloc[0,j] ) > 0 and abs(co_a.iloc[0,j] ) < 0.3:\n",
        "            cor_list4.append((co_a.columns[j]))\n",
        "\n",
        "        '''   \n",
        "\n",
        "    for j in range(co_a.size):\n",
        "        if abs(co_a.iloc[0,j] ) > 0.92:\n",
        "            cor_list1.append( co_a.columns[j])\n",
        "        if abs(co_a.iloc[0,j] ) > 0.80:\n",
        "            cor_list2.append((co_a.columns[j]))\n",
        "        if abs(co_a.iloc[0,j] ) > 0.72:\n",
        "            cor_list3.append((co_a.columns[j]))\n",
        "        if abs(co_a.iloc[0,j] ) > 0.62:\n",
        "            cor_list4.append((co_a.columns[j]))\n",
        "     \n",
        "\n",
        "    #cor_list1 = cor_list1 +add_time_NE + [Target]+['PDCP_DATA_VOL_DL']\n",
        "    cor_list1 = cor_list1 +add_time_NE + [Target]\n",
        "    cor_list2 = cor_list2 +add_time_NE + [Target]\n",
        "    cor_list3 = cor_list3 +add_time_NE + [Target]\n",
        "    cor_list4 = cor_list4 +add_time_NE + [Target]\n",
        " \n",
        "    df_corl1 = df_corl1[cor_list1]  \n",
        "    df_corl2 = df_corl2[cor_list2]\n",
        "    df_corl3 = df_corl3[cor_list3]\n",
        "    df_corl4 = df_corl4[cor_list4]\n",
        "\n",
        "    return df_corl1, df_corl2, df_corl3, df_corl4\n",
        "\n",
        "corl1, corl2, corl3, corl4= Corre(df0, Target)\n",
        "corl3.to_excel(\"Corl3.xlsx\")\n",
        "n_features1 = corl1.shape[1]-3\n",
        "n_features2 = corl2.shape[1]-3\n",
        "n_features3 = corl3.shape[1]-3\n",
        "n_features4 = corl4.shape[1]-3\n",
        "\n",
        "# print(n_features1)\n",
        "# print(n_features2)\n",
        "# print(n_features3)\n",
        "# print(n_features4)"
      ],
      "execution_count": 13,
      "outputs": [
        {
          "output_type": "stream",
          "text": [
            "/usr/local/lib/python3.7/dist-packages/scipy/stats/stats.py:3508: PearsonRConstantInputWarning: An input array is constant; the correlation coefficent is not defined.\n",
            "  warnings.warn(PearsonRConstantInputWarning())\n"
          ],
          "name": "stderr"
        }
      ]
    },
    {
      "cell_type": "code",
      "metadata": {
        "id": "dfOeAc30lByj"
      },
      "source": [
        "from keras.callbacks import EarlyStopping, ModelCheckpoint\n",
        "import os\n",
        "#from statsmodels.tsa.arima.model import ARIMA\n",
        "\n",
        "X1_train, X1_test, Y_train, Y_test = Data(corl1,Target) \n",
        "X1_train = X1_train.reshape(X1_train.shape[0],X1_train.shape[1], n_features1 )\n",
        "X1_test = X1_test.reshape(X1_test.shape[0],X1_test.shape[1], n_features1 )\n",
        "\n",
        "X2_train, X2_test, Y_train, Y_test = Data(corl2,Target) \n",
        "X2_train = X2_train.reshape(X2_train.shape[0],X2_train.shape[1], n_features2 ) \n",
        "X2_test = X2_test.reshape(X2_test.shape[0],X2_test.shape[1], n_features2 )\n",
        "\n",
        "X3_train, X3_test, Y_train, Y_test = Data(corl3,Target) \n",
        "X3_train = X3_train.reshape(X3_train.shape[0],X3_train.shape[1], n_features3 ) \n",
        "X3_test = X3_test.reshape(X3_test.shape[0],X3_test.shape[1], n_features3 )\n",
        "\n",
        "X4_train, X4_test, Y_train, Y_test = Data(corl4,Target) \n",
        "X4_train = X4_train.reshape(X4_train.shape[0],X4_train.shape[1], n_features4 ) \n",
        "X4_test = X4_test.reshape(X4_test.shape[0],X4_test.shape[1], n_features4 )\n",
        "\n",
        "# print('X1_train.shape: ', X1_train.shape) \n",
        "# print('X2_train.shape: ', X2_train.shape) \n",
        "# print('X3_test.shape: ', X3_train.shape) \n",
        "# print('X4_test.shape: ', X4_train.shape)\n",
        "#print(X1_train)\n",
        "#print(Y_train)\n",
        "\n",
        "def Model_Arch(): \n",
        "\n",
        "  n_timesteps, n_outputs = X1_train.shape[1], Y_train.shape[1]\n",
        "\n",
        "\n",
        "  inputs1 = Input(shape=( n_timesteps, n_features1))\n",
        "  inputs2 = Input(shape=( n_timesteps, n_features2))\n",
        "  inputs3 = Input(shape=( n_timesteps, n_features3))\n",
        "  inputs4 = Input(shape=( n_timesteps, n_features4))\n",
        "  \n",
        "  # head 1\n",
        "  conv1 = Conv1D(128, activation = 'relu',kernel_size = 1) (inputs1)\n",
        "  conv1 = BatchNormalization(axis=-1, momentum=0.99, epsilon=0.001, center=True, scale=False) (conv1)\n",
        "  conv1 = Conv1D(256, activation = 'relu',kernel_size = 1) (conv1)\n",
        "  conv1 = BatchNormalization(axis=-1, momentum=0.99, epsilon=0.001, center=True, scale=False) (conv1)\n",
        "  lstm1 = LSTM(2024, activation=  'relu' ,   return_sequences=True) (conv1)\n",
        "  lstm1 = BatchNormalization(axis=-1, momentum=0.99, epsilon=0.001, center=True, scale=False) (lstm1)\n",
        "  lstm1 = LSTM(1024, activation=  'relu' ,   return_sequences=True) (lstm1)\n",
        "  lstm1 = BatchNormalization(axis=-1, momentum=0.99, epsilon=0.001, center=True, scale=False) (lstm1)\n",
        "  Flat1 = Flatten()(lstm1)\n",
        "  print('Flat1:  ',Flat1)\n",
        " \n",
        "#   # head 2\n",
        "#   lstm2 = LSTM(1024, activation=  'relu' ,   return_sequences=True) (inputs2)\n",
        "#   lstm2 = BatchNormalization(axis=-1, momentum=0.99, epsilon=0.001, center=True, scale=False) (lstm2)\n",
        "#   lstm2 = LSTM(1024, activation=  'relu' ,   return_sequences=True) (lstm2)\n",
        "#   lstm2 = BatchNormalization(axis=-1, momentum=0.99, epsilon=0.001, center=True, scale=False) (lstm2)\n",
        "\n",
        "#   Flat2 = Flatten()(lstm2)\n",
        "#   print(Flat2)\n",
        "\n",
        "#  # Head 3\n",
        "#   lstm3 = LSTM(1024, activation=  'relu' ,   return_sequences=True) (inputs3)\n",
        "#   lstm3 = BatchNormalization(axis=-1, momentum=0.99, epsilon=0.001, center=True, scale=False) (lstm3)\n",
        "#   lstm3 = LSTM(1024, activation=  'relu' ,   return_sequences=True) (lstm3)\n",
        "#   lstm3 = BatchNormalization(axis=-1, momentum=0.99, epsilon=0.001, center=True, scale=False) (lstm3)\n",
        "#   Flat3 = Flatten()(lstm3)\n",
        "#   #f= pd.DataFrame(Flat3)\n",
        "#   print(Flat3)\n",
        "#   #Flat3.\n",
        "#  # Head 4\n",
        "\n",
        "#   #conv4 = Dropout(.5)(conv4)\n",
        "#   lstm4 = LSTM(1024, activation=  'relu' ,   return_sequences=True) (inputs4)\n",
        "#   lstm4 = BatchNormalization(axis=-1, momentum=0.99, epsilon=0.001, center=True, scale=False) (lstm4)\n",
        "#   lstm4 = LSTM(1024, activation=  'relu' ,   return_sequences=True) (lstm4)\n",
        "#   lstm4 = BatchNormalization(axis=-1, momentum=0.99, epsilon=0.001, center=True, scale=False) (lstm4)\n",
        "#   Flat4 = Flatten()(lstm4)\n",
        "#   print(Flat4)\n",
        "\n",
        "\n",
        " \n",
        "  # merged = concatenate([Flat1, Flat2, Flat3, Flat4])\n",
        "  \n",
        "  dense1 = Dense(200, activation= 'relu')(Flat1)\n",
        "  dense1 = Dropout(0.5)(dense1)\n",
        "  #dense1 = BatchNormalization(axis=-1, momentum=0.99, epsilon=0.001, center=True, scale=False) (dense1)\n",
        "  dense1 = Dense(100, activation='relu')(dense1)\n",
        "  dense1 = Dropout(.5)(dense1)\n",
        "  dense1 = Dense(20, activation='relu')(dense1)\n",
        "  dense1 = Dropout(.5)(dense1)\n",
        "  #dense3 = BatchNormalization(axis=-1, momentum=0.99, epsilon=0.001, center=True, scale=False) (dense3)\n",
        "  outputs = Dense(n_outputs, activation= 'relu')(dense1)\n",
        "  \n",
        "  \n",
        "  #model = Model(inputs=[inputs1, inputs2, inputs3, inputs4], outputs=outputs)\n",
        "  #model = Model(inputs=[inputs1, inputs2, inputs3, inputs4 ], outputs=outputs)\n",
        "  model = Model(inputs=[inputs1, inputs2, inputs3, inputs4], outputs=outputs)\n",
        "  # save a plot of the model\n",
        "  plot_model(model, show_shapes=True, to_file='multiheaded.png')\n",
        "  optimizer = tf.keras.optimizers.Adagrad(learning_rate=0.001, initial_accumulator_value=0.1, epsilon=1e-07, name='Adagrad')\n",
        "  model.compile(loss='msle', optimizer=optimizer, metrics=['accuracy'])\n",
        "  return model"
      ],
      "execution_count": 16,
      "outputs": []
    },
    {
      "cell_type": "code",
      "metadata": {
        "colab": {
          "base_uri": "https://localhost:8080/"
        },
        "id": "2wvlaLpPlFQ5",
        "outputId": "7635a422-7aee-404f-8df5-b8bf511f3679"
      },
      "source": [
        "%modeX Plain"
      ],
      "execution_count": 17,
      "outputs": [
        {
          "output_type": "stream",
          "text": [
            "UsageError: Line magic function `%modeX` not found.\n"
          ],
          "name": "stderr"
        }
      ]
    },
    {
      "cell_type": "markdown",
      "metadata": {
        "id": "OE4-zLH7kwXD"
      },
      "source": [
        "# New Section"
      ]
    },
    {
      "cell_type": "markdown",
      "metadata": {
        "id": "tnELGNccl6Gp"
      },
      "source": [
        ""
      ]
    },
    {
      "cell_type": "code",
      "metadata": {
        "colab": {
          "base_uri": "https://localhost:8080/",
          "height": 588
        },
        "id": "CZQwBD3wUEjD",
        "outputId": "79624f04-e378-4a8a-f0ed-2627e9a46b3c"
      },
      "source": [
        "from keras.models import load_model\n",
        "from keras.callbacks import ModelCheckpoint\n",
        "\n",
        "def evaluate_model(X1_train, X1_test,X2_train, X2_test,X3_train, X3_test, X4_train, X4_test, Y_train, Y_test):\n",
        "\n",
        "  model = Model_Arch()\n",
        "  checkpoint_path = \"training_1/cp.ckpt\"\n",
        "  checkpoint_dir = os.path.dirname(checkpoint_path)\n",
        "\n",
        "  # Create a callback that saves the model's weights\n",
        "  cp_callback = tf.keras.callbacks.ModelCheckpoint(filepath=checkpoint_path,\n",
        "                                                  save_weights_only=True,\n",
        "                                                  verbose=1)\n",
        "  best_model_file = \"vgg.h5\"\n",
        "  best_model = ModelCheckpoint(best_model_file, monitor='val_loss', verbose=0, save_best_only=True)\n",
        "\n",
        "  #model.load_weights(checkpoint_path)\n",
        "  es = EarlyStopping(monitor='val_loss', mode='min', verbose=0,patience=60)\n",
        "  #mc = ModelCheckpoint('best_model.h5', monitor='val_accuracy', mode='min', verbose=1,  save_best_only=True)\n",
        "  # fit network\n",
        "  history = model.fit([X1_train,X2_train,X3_train, X4_train], Y_train, epochs=250, batch_size=32, verbose=1, validation_split = 0.2)\n",
        "  #history = model.fit([X1_train,X2_train,X3_train, X4_train], Y_train, epochs=550, batch_size=100, verbose=1, validation_split = 0.3, shuffle=False)\n",
        "\n",
        "  #model.save('best_model.h5') \n",
        "  #saved_model = load_model('best_model.h5')\n",
        "  #print(Flat3)\n",
        "  #print(f)\n",
        "  # evaluate model\n",
        "  _, accuracy = model.evaluate([X1_test,X2_test,X3_test, X4_test], Y_test, batch_size=32, verbose=0)\n",
        "  prediction_test = model.predict([X1_test, X2_test, X3_test, X4_test])\n",
        "  prediction_train = model.predict([X1_train, X2_train, X3_train, X4_train])\n",
        "  #print(prediction)\n",
        "  return  accuracy, prediction_test, prediction_train, history\n",
        "# summarize scores\n",
        "def summarize_results(scores):\n",
        "  print(scores)\n",
        "  #m, s = mean(scores), std(scores)\n",
        "  #print('Accuracy: %.3f%% (+/-%.3f)' % (m, s))\n",
        "  # run an experiment\n",
        "def run_experiment(repeats=1):\n",
        "  # load data\n",
        "  #X_train, Y_train, X_test, Y_test = load_dataset()\n",
        "  # repeat experiment\n",
        "  \n",
        "  scores = list()\n",
        "  for r in range(repeats):\n",
        "    score, prediction_test, prediction_train, history = evaluate_model(X1_train, X1_test,X2_train, X2_test,X3_train, X3_test, X4_train, X4_test,Y_train, Y_test)\n",
        "    score = score * 100.0\n",
        "    print('>#%d: %.3f' % (r+1, score))\n",
        "    scores.append(score)\n",
        "  summarize_results(scores)\n",
        "  return scores, prediction_test, prediction_train, history\n",
        "  #summarize_results(scores)\n",
        "#prediction = run_experiment()\n",
        "scores, prediction_test, prediction_train, history = run_experiment()\n",
        "#print(prediction_test)\n",
        "\n",
        "def plot_loss (history):\n",
        "    plt.figure(figsize = (10, 6))\n",
        "    plt.plot(history.history['loss'])\n",
        "    plt.plot(history.history['val_loss'])\n",
        "    plt.ylabel('Loss')\n",
        "    plt.xlabel('epoch')\n",
        "    plt.legend(['Train loss', 'Validation loss'], loc='upper right')\n",
        "#plot_loss (history_bilstm)\n",
        "plot_loss (history)\n",
        "\n",
        "def plot_future(prediction, y_test):\n",
        "    \n",
        "    YY=df_orig[[Target]]\n",
        "    \n",
        "    scaler = MinMaxScaler(feature_range = (0,1))\n",
        "    output_scaler = scaler.fit(YY)\n",
        "    y_test = output_scaler.inverse_transform(y_test)\n",
        "    prediction1 = prediction.reshape(prediction.shape[0],1)\n",
        "    prediction1 = output_scaler.inverse_transform(prediction1)\n",
        "    prediction1 = prediction.reshape(prediction1.shape[0],1)\n",
        "    plt.figure(figsize=(10, 6))\n",
        "    range_future = len(prediction1)\n",
        "    plt.plot(np.arange(range_future), np.array(y_test), \n",
        "            label='True Future')     \n",
        "    plt.plot(np.arange(range_future),np.array(prediction1),\n",
        "            label='Prediction')\n",
        "    plt.legend(loc='upper left')\n",
        "    plt.xlabel('Time (day)')\n",
        "    plt.ylabel('THP')\n",
        "#print(Y_test)\n",
        "plot_future(prediction_test, Y_test)\n",
        "plot_future(prediction_train, Y_train)"
      ],
      "execution_count": 18,
      "outputs": [
        {
          "output_type": "stream",
          "text": [
            "WARNING:tensorflow:Layer lstm_8 will not use cuDNN kernels since it doesn't meet the criteria. It will use a generic GPU kernel as fallback when running on GPU.\n",
            "WARNING:tensorflow:Layer lstm_9 will not use cuDNN kernels since it doesn't meet the criteria. It will use a generic GPU kernel as fallback when running on GPU.\n",
            "Flat1:   Tensor(\"flatten_4/Reshape:0\", shape=(?, 1024), dtype=float32)\n",
            "Train on 273 samples, validate on 69 samples\n",
            "Epoch 1/250\n"
          ],
          "name": "stdout"
        },
        {
          "output_type": "error",
          "ename": "FailedPreconditionError",
          "evalue": "ignored",
          "traceback": [
            "\u001b[0;31m---------------------------------------------------------------------------\u001b[0m",
            "\u001b[0;31mFailedPreconditionError\u001b[0m                   Traceback (most recent call last)",
            "\u001b[0;32m<ipython-input-18-bf169a834a96>\u001b[0m in \u001b[0;36m<module>\u001b[0;34m()\u001b[0m\n\u001b[1;32m     53\u001b[0m   \u001b[0;31m#summarize_results(scores)\u001b[0m\u001b[0;34m\u001b[0m\u001b[0;34m\u001b[0m\u001b[0;34m\u001b[0m\u001b[0m\n\u001b[1;32m     54\u001b[0m \u001b[0;31m#prediction = run_experiment()\u001b[0m\u001b[0;34m\u001b[0m\u001b[0;34m\u001b[0m\u001b[0;34m\u001b[0m\u001b[0m\n\u001b[0;32m---> 55\u001b[0;31m \u001b[0mscores\u001b[0m\u001b[0;34m,\u001b[0m \u001b[0mprediction_test\u001b[0m\u001b[0;34m,\u001b[0m \u001b[0mprediction_train\u001b[0m\u001b[0;34m,\u001b[0m \u001b[0mhistory\u001b[0m \u001b[0;34m=\u001b[0m \u001b[0mrun_experiment\u001b[0m\u001b[0;34m(\u001b[0m\u001b[0;34m)\u001b[0m\u001b[0;34m\u001b[0m\u001b[0;34m\u001b[0m\u001b[0m\n\u001b[0m\u001b[1;32m     56\u001b[0m \u001b[0;31m#print(prediction_test)\u001b[0m\u001b[0;34m\u001b[0m\u001b[0;34m\u001b[0m\u001b[0;34m\u001b[0m\u001b[0m\n\u001b[1;32m     57\u001b[0m \u001b[0;34m\u001b[0m\u001b[0m\n",
            "\u001b[0;32m<ipython-input-18-bf169a834a96>\u001b[0m in \u001b[0;36mrun_experiment\u001b[0;34m(repeats)\u001b[0m\n\u001b[1;32m     45\u001b[0m   \u001b[0mscores\u001b[0m \u001b[0;34m=\u001b[0m \u001b[0mlist\u001b[0m\u001b[0;34m(\u001b[0m\u001b[0;34m)\u001b[0m\u001b[0;34m\u001b[0m\u001b[0;34m\u001b[0m\u001b[0m\n\u001b[1;32m     46\u001b[0m   \u001b[0;32mfor\u001b[0m \u001b[0mr\u001b[0m \u001b[0;32min\u001b[0m \u001b[0mrange\u001b[0m\u001b[0;34m(\u001b[0m\u001b[0mrepeats\u001b[0m\u001b[0;34m)\u001b[0m\u001b[0;34m:\u001b[0m\u001b[0;34m\u001b[0m\u001b[0;34m\u001b[0m\u001b[0m\n\u001b[0;32m---> 47\u001b[0;31m     \u001b[0mscore\u001b[0m\u001b[0;34m,\u001b[0m \u001b[0mprediction_test\u001b[0m\u001b[0;34m,\u001b[0m \u001b[0mprediction_train\u001b[0m\u001b[0;34m,\u001b[0m \u001b[0mhistory\u001b[0m \u001b[0;34m=\u001b[0m \u001b[0mevaluate_model\u001b[0m\u001b[0;34m(\u001b[0m\u001b[0mX1_train\u001b[0m\u001b[0;34m,\u001b[0m \u001b[0mX1_test\u001b[0m\u001b[0;34m,\u001b[0m\u001b[0mX2_train\u001b[0m\u001b[0;34m,\u001b[0m \u001b[0mX2_test\u001b[0m\u001b[0;34m,\u001b[0m\u001b[0mX3_train\u001b[0m\u001b[0;34m,\u001b[0m \u001b[0mX3_test\u001b[0m\u001b[0;34m,\u001b[0m \u001b[0mX4_train\u001b[0m\u001b[0;34m,\u001b[0m \u001b[0mX4_test\u001b[0m\u001b[0;34m,\u001b[0m\u001b[0mY_train\u001b[0m\u001b[0;34m,\u001b[0m \u001b[0mY_test\u001b[0m\u001b[0;34m)\u001b[0m\u001b[0;34m\u001b[0m\u001b[0;34m\u001b[0m\u001b[0m\n\u001b[0m\u001b[1;32m     48\u001b[0m     \u001b[0mscore\u001b[0m \u001b[0;34m=\u001b[0m \u001b[0mscore\u001b[0m \u001b[0;34m*\u001b[0m \u001b[0;36m100.0\u001b[0m\u001b[0;34m\u001b[0m\u001b[0;34m\u001b[0m\u001b[0m\n\u001b[1;32m     49\u001b[0m     \u001b[0mprint\u001b[0m\u001b[0;34m(\u001b[0m\u001b[0;34m'>#%d: %.3f'\u001b[0m \u001b[0;34m%\u001b[0m \u001b[0;34m(\u001b[0m\u001b[0mr\u001b[0m\u001b[0;34m+\u001b[0m\u001b[0;36m1\u001b[0m\u001b[0;34m,\u001b[0m \u001b[0mscore\u001b[0m\u001b[0;34m)\u001b[0m\u001b[0;34m)\u001b[0m\u001b[0;34m\u001b[0m\u001b[0;34m\u001b[0m\u001b[0m\n",
            "\u001b[0;32m<ipython-input-18-bf169a834a96>\u001b[0m in \u001b[0;36mevaluate_model\u001b[0;34m(X1_train, X1_test, X2_train, X2_test, X3_train, X3_test, X4_train, X4_test, Y_train, Y_test)\u001b[0m\n\u001b[1;32m     19\u001b[0m   \u001b[0;31m#mc = ModelCheckpoint('best_model.h5', monitor='val_accuracy', mode='min', verbose=1,  save_best_only=True)\u001b[0m\u001b[0;34m\u001b[0m\u001b[0;34m\u001b[0m\u001b[0;34m\u001b[0m\u001b[0m\n\u001b[1;32m     20\u001b[0m   \u001b[0;31m# fit network\u001b[0m\u001b[0;34m\u001b[0m\u001b[0;34m\u001b[0m\u001b[0;34m\u001b[0m\u001b[0m\n\u001b[0;32m---> 21\u001b[0;31m   \u001b[0mhistory\u001b[0m \u001b[0;34m=\u001b[0m \u001b[0mmodel\u001b[0m\u001b[0;34m.\u001b[0m\u001b[0mfit\u001b[0m\u001b[0;34m(\u001b[0m\u001b[0;34m[\u001b[0m\u001b[0mX1_train\u001b[0m\u001b[0;34m,\u001b[0m\u001b[0mX2_train\u001b[0m\u001b[0;34m,\u001b[0m\u001b[0mX3_train\u001b[0m\u001b[0;34m,\u001b[0m \u001b[0mX4_train\u001b[0m\u001b[0;34m]\u001b[0m\u001b[0;34m,\u001b[0m \u001b[0mY_train\u001b[0m\u001b[0;34m,\u001b[0m \u001b[0mepochs\u001b[0m\u001b[0;34m=\u001b[0m\u001b[0;36m250\u001b[0m\u001b[0;34m,\u001b[0m \u001b[0mbatch_size\u001b[0m\u001b[0;34m=\u001b[0m\u001b[0;36m32\u001b[0m\u001b[0;34m,\u001b[0m \u001b[0mverbose\u001b[0m\u001b[0;34m=\u001b[0m\u001b[0;36m1\u001b[0m\u001b[0;34m,\u001b[0m \u001b[0mvalidation_split\u001b[0m \u001b[0;34m=\u001b[0m \u001b[0;36m0.2\u001b[0m\u001b[0;34m)\u001b[0m\u001b[0;34m\u001b[0m\u001b[0;34m\u001b[0m\u001b[0m\n\u001b[0m\u001b[1;32m     22\u001b[0m   \u001b[0;31m#history = model.fit([X1_train,X2_train,X3_train, X4_train], Y_train, epochs=550, batch_size=100, verbose=1, validation_split = 0.3, shuffle=False)\u001b[0m\u001b[0;34m\u001b[0m\u001b[0;34m\u001b[0m\u001b[0;34m\u001b[0m\u001b[0m\n\u001b[1;32m     23\u001b[0m \u001b[0;34m\u001b[0m\u001b[0m\n",
            "\u001b[0;32m/usr/local/lib/python3.7/dist-packages/keras/engine/training_v1.py\u001b[0m in \u001b[0;36mfit\u001b[0;34m(self, x, y, batch_size, epochs, verbose, callbacks, validation_split, validation_data, shuffle, class_weight, sample_weight, initial_epoch, steps_per_epoch, validation_steps, validation_freq, max_queue_size, workers, use_multiprocessing, **kwargs)\u001b[0m\n\u001b[1;32m    795\u001b[0m         \u001b[0mmax_queue_size\u001b[0m\u001b[0;34m=\u001b[0m\u001b[0mmax_queue_size\u001b[0m\u001b[0;34m,\u001b[0m\u001b[0;34m\u001b[0m\u001b[0;34m\u001b[0m\u001b[0m\n\u001b[1;32m    796\u001b[0m         \u001b[0mworkers\u001b[0m\u001b[0;34m=\u001b[0m\u001b[0mworkers\u001b[0m\u001b[0;34m,\u001b[0m\u001b[0;34m\u001b[0m\u001b[0;34m\u001b[0m\u001b[0m\n\u001b[0;32m--> 797\u001b[0;31m         use_multiprocessing=use_multiprocessing)\n\u001b[0m\u001b[1;32m    798\u001b[0m \u001b[0;34m\u001b[0m\u001b[0m\n\u001b[1;32m    799\u001b[0m   def evaluate(self,\n",
            "\u001b[0;32m/usr/local/lib/python3.7/dist-packages/keras/engine/training_arrays_v1.py\u001b[0m in \u001b[0;36mfit\u001b[0;34m(self, model, x, y, batch_size, epochs, verbose, callbacks, validation_split, validation_data, shuffle, class_weight, sample_weight, initial_epoch, steps_per_epoch, validation_steps, validation_freq, **kwargs)\u001b[0m\n\u001b[1;32m    655\u001b[0m         \u001b[0mvalidation_steps\u001b[0m\u001b[0;34m=\u001b[0m\u001b[0mvalidation_steps\u001b[0m\u001b[0;34m,\u001b[0m\u001b[0;34m\u001b[0m\u001b[0;34m\u001b[0m\u001b[0m\n\u001b[1;32m    656\u001b[0m         \u001b[0mvalidation_freq\u001b[0m\u001b[0;34m=\u001b[0m\u001b[0mvalidation_freq\u001b[0m\u001b[0;34m,\u001b[0m\u001b[0;34m\u001b[0m\u001b[0;34m\u001b[0m\u001b[0m\n\u001b[0;32m--> 657\u001b[0;31m         steps_name='steps_per_epoch')\n\u001b[0m\u001b[1;32m    658\u001b[0m \u001b[0;34m\u001b[0m\u001b[0m\n\u001b[1;32m    659\u001b[0m   def evaluate(self,\n",
            "\u001b[0;32m/usr/local/lib/python3.7/dist-packages/keras/engine/training_arrays_v1.py\u001b[0m in \u001b[0;36mmodel_iteration\u001b[0;34m(model, inputs, targets, sample_weights, batch_size, epochs, verbose, callbacks, val_inputs, val_targets, val_sample_weights, shuffle, initial_epoch, steps_per_epoch, validation_steps, validation_freq, mode, validation_in_fit, prepared_feed_values_from_dataset, steps_name, **kwargs)\u001b[0m\n\u001b[1;32m    374\u001b[0m \u001b[0;34m\u001b[0m\u001b[0m\n\u001b[1;32m    375\u001b[0m         \u001b[0;31m# Get outputs.\u001b[0m\u001b[0;34m\u001b[0m\u001b[0;34m\u001b[0m\u001b[0;34m\u001b[0m\u001b[0m\n\u001b[0;32m--> 376\u001b[0;31m         \u001b[0mbatch_outs\u001b[0m \u001b[0;34m=\u001b[0m \u001b[0mf\u001b[0m\u001b[0;34m(\u001b[0m\u001b[0mins_batch\u001b[0m\u001b[0;34m)\u001b[0m\u001b[0;34m\u001b[0m\u001b[0;34m\u001b[0m\u001b[0m\n\u001b[0m\u001b[1;32m    377\u001b[0m         \u001b[0;32mif\u001b[0m \u001b[0;32mnot\u001b[0m \u001b[0misinstance\u001b[0m\u001b[0;34m(\u001b[0m\u001b[0mbatch_outs\u001b[0m\u001b[0;34m,\u001b[0m \u001b[0mlist\u001b[0m\u001b[0;34m)\u001b[0m\u001b[0;34m:\u001b[0m\u001b[0;34m\u001b[0m\u001b[0;34m\u001b[0m\u001b[0m\n\u001b[1;32m    378\u001b[0m           \u001b[0mbatch_outs\u001b[0m \u001b[0;34m=\u001b[0m \u001b[0;34m[\u001b[0m\u001b[0mbatch_outs\u001b[0m\u001b[0;34m]\u001b[0m\u001b[0;34m\u001b[0m\u001b[0;34m\u001b[0m\u001b[0m\n",
            "\u001b[0;32m/usr/local/lib/python3.7/dist-packages/keras/backend.py\u001b[0m in \u001b[0;36m__call__\u001b[0;34m(self, inputs)\u001b[0m\n\u001b[1;32m   4018\u001b[0m \u001b[0;34m\u001b[0m\u001b[0m\n\u001b[1;32m   4019\u001b[0m     fetched = self._callable_fn(*array_vals,\n\u001b[0;32m-> 4020\u001b[0;31m                                 run_metadata=self.run_metadata)\n\u001b[0m\u001b[1;32m   4021\u001b[0m     \u001b[0mself\u001b[0m\u001b[0;34m.\u001b[0m\u001b[0m_call_fetch_callbacks\u001b[0m\u001b[0;34m(\u001b[0m\u001b[0mfetched\u001b[0m\u001b[0;34m[\u001b[0m\u001b[0;34m-\u001b[0m\u001b[0mlen\u001b[0m\u001b[0;34m(\u001b[0m\u001b[0mself\u001b[0m\u001b[0;34m.\u001b[0m\u001b[0m_fetches\u001b[0m\u001b[0;34m)\u001b[0m\u001b[0;34m:\u001b[0m\u001b[0;34m]\u001b[0m\u001b[0;34m)\u001b[0m\u001b[0;34m\u001b[0m\u001b[0;34m\u001b[0m\u001b[0m\n\u001b[1;32m   4022\u001b[0m     output_structure = tf.nest.pack_sequence_as(\n",
            "\u001b[0;32m/usr/local/lib/python3.7/dist-packages/tensorflow/python/client/session.py\u001b[0m in \u001b[0;36m__call__\u001b[0;34m(self, *args, **kwargs)\u001b[0m\n\u001b[1;32m   1480\u001b[0m         ret = tf_session.TF_SessionRunCallable(self._session._session,\n\u001b[1;32m   1481\u001b[0m                                                \u001b[0mself\u001b[0m\u001b[0;34m.\u001b[0m\u001b[0m_handle\u001b[0m\u001b[0;34m,\u001b[0m \u001b[0margs\u001b[0m\u001b[0;34m,\u001b[0m\u001b[0;34m\u001b[0m\u001b[0;34m\u001b[0m\u001b[0m\n\u001b[0;32m-> 1482\u001b[0;31m                                                run_metadata_ptr)\n\u001b[0m\u001b[1;32m   1483\u001b[0m         \u001b[0;32mif\u001b[0m \u001b[0mrun_metadata\u001b[0m\u001b[0;34m:\u001b[0m\u001b[0;34m\u001b[0m\u001b[0;34m\u001b[0m\u001b[0m\n\u001b[1;32m   1484\u001b[0m           \u001b[0mproto_data\u001b[0m \u001b[0;34m=\u001b[0m \u001b[0mtf_session\u001b[0m\u001b[0;34m.\u001b[0m\u001b[0mTF_GetBuffer\u001b[0m\u001b[0;34m(\u001b[0m\u001b[0mrun_metadata_ptr\u001b[0m\u001b[0;34m)\u001b[0m\u001b[0;34m\u001b[0m\u001b[0;34m\u001b[0m\u001b[0m\n",
            "\u001b[0;31mFailedPreconditionError\u001b[0m: 2 root error(s) found.\n  (0) Failed precondition: Could not find variable training_2/Adagrad/learning_rate. This could mean that the variable has been deleted. In TF1, it can also mean the variable is uninitialized. Debug info: container=localhost, status=Not found: Resource localhost/training_2/Adagrad/learning_rate/N10tensorflow3VarE does not exist.\n\t [[{{node training_2/Adagrad/Identity/ReadVariableOp}}]]\n\t [[loss_1/mul/_383]]\n  (1) Failed precondition: Could not find variable training_2/Adagrad/learning_rate. This could mean that the variable has been deleted. In TF1, it can also mean the variable is uninitialized. Debug info: container=localhost, status=Not found: Resource localhost/training_2/Adagrad/learning_rate/N10tensorflow3VarE does not exist.\n\t [[{{node training_2/Adagrad/Identity/ReadVariableOp}}]]\n0 successful operations.\n0 derived errors ignored."
          ]
        }
      ]
    },
    {
      "cell_type": "code",
      "metadata": {
        "id": "sthhxDhNCrHH"
      },
      "source": [
        "from google.colab import drive\n",
        "drive.mount('/content/drive')"
      ],
      "execution_count": null,
      "outputs": []
    },
    {
      "cell_type": "markdown",
      "metadata": {
        "id": "WgfsQykcC0f7"
      },
      "source": [
        "# New Section"
      ]
    },
    {
      "cell_type": "markdown",
      "metadata": {
        "id": "PN-8miOEC086"
      },
      "source": [
        "# New Section"
      ]
    },
    {
      "cell_type": "markdown",
      "metadata": {
        "id": "yEumUpGWADCe"
      },
      "source": [
        "# New Section"
      ]
    },
    {
      "cell_type": "code",
      "metadata": {
        "colab": {
          "base_uri": "https://localhost:8080/"
        },
        "id": "qSLXAOCYMEJk",
        "outputId": "0c55a389-388d-4545-b909-1310ef90f4bc"
      },
      "source": [
        "Y_test.shape"
      ],
      "execution_count": null,
      "outputs": [
        {
          "output_type": "execute_result",
          "data": {
            "text/plain": [
              "(86, 1)"
            ]
          },
          "metadata": {
            "tags": []
          },
          "execution_count": 28
        }
      ]
    },
    {
      "cell_type": "code",
      "metadata": {
        "colab": {
          "base_uri": "https://localhost:8080/"
        },
        "id": "VfeacXROTNUk",
        "outputId": "d69defdb-449e-4254-e165-4469cf92db2d"
      },
      "source": [
        "prediction_train.shape[0]"
      ],
      "execution_count": null,
      "outputs": [
        {
          "output_type": "execute_result",
          "data": {
            "text/plain": [
              "342"
            ]
          },
          "metadata": {
            "tags": []
          },
          "execution_count": 25
        }
      ]
    },
    {
      "cell_type": "code",
      "metadata": {
        "colab": {
          "base_uri": "https://localhost:8080/"
        },
        "id": "srp9n_CJheqo",
        "outputId": "9d88e65b-4106-4cde-cafc-b91c40e58ddf"
      },
      "source": [
        "%xmode plain\n"
      ],
      "execution_count": null,
      "outputs": [
        {
          "output_type": "stream",
          "text": [
            "Exception reporting mode: Plain\n"
          ],
          "name": "stdout"
        }
      ]
    },
    {
      "cell_type": "code",
      "metadata": {
        "colab": {
          "base_uri": "https://localhost:8080/",
          "height": 537
        },
        "id": "jtXpUWXZ7uOu",
        "outputId": "baee9f74-7ddd-4fbf-b926-5e733e797df8"
      },
      "source": [
        "saved_model = Model_Arch()\n",
        "saved_model = load_model('vgg.h5')\n",
        "\n",
        "X1_train, X1_test, Y_train, Y_test = Data(corl1,Target) \n",
        "X1_train = X1_train.reshape(X1_train.shape[0],X1_train.shape[1], n_features1 )\n",
        "X1_test = X1_test.reshape(X1_test.shape[0],X1_test.shape[1], n_features1 )\n",
        "\n",
        "X2_train, X2_test, Y_train, Y_test = Data(corl2,Target) \n",
        "X2_train = X2_train.reshape(X2_train.shape[0],X2_train.shape[1], n_features2 ) \n",
        "X2_test = X2_test.reshape(X2_test.shape[0],X2_test.shape[1], n_features2 )\n",
        "\n",
        "X3_train, X3_test, Y_train, Y_test = Data(corl3,Target) \n",
        "X3_train = X3_train.reshape(X3_train.shape[0],X3_train.shape[1], n_features3 ) \n",
        "X3_test = X3_test.reshape(X3_test.shape[0],X3_test.shape[1], n_features3 )\n",
        "\n",
        "X4_train, X4_test, Y_train, Y_test = Data(corl4,Target) \n",
        "X4_train = X4_train.reshape(X4_train.shape[0],X4_train.shape[1], n_features4 ) \n",
        "X4_test = X4_test.reshape(X4_test.shape[0],X4_test.shape[1], n_features4 )\n",
        "\n",
        "\n",
        "\n",
        "prediction_test = saved_model.predict([X1_test, X2_test, X3_test, X4_test])\n",
        "plot_future(prediction_test, Y_test)"
      ],
      "execution_count": null,
      "outputs": [
        {
          "output_type": "stream",
          "text": [
            "WARNING:tensorflow:Layer lstm_66 will not use cuDNN kernel since it doesn't meet the cuDNN kernel criteria. It will use generic GPU kernel as fallback when running on GPU\n",
            "WARNING:tensorflow:Layer lstm_67 will not use cuDNN kernel since it doesn't meet the cuDNN kernel criteria. It will use generic GPU kernel as fallback when running on GPU\n",
            "WARNING:tensorflow:Layer lstm_68 will not use cuDNN kernel since it doesn't meet the cuDNN kernel criteria. It will use generic GPU kernel as fallback when running on GPU\n",
            "WARNING:tensorflow:Layer lstm_69 will not use cuDNN kernel since it doesn't meet the cuDNN kernel criteria. It will use generic GPU kernel as fallback when running on GPU\n",
            "WARNING:tensorflow:Layer lstm_70 will not use cuDNN kernel since it doesn't meet the cuDNN kernel criteria. It will use generic GPU kernel as fallback when running on GPU\n",
            "WARNING:tensorflow:Layer lstm_71 will not use cuDNN kernel since it doesn't meet the cuDNN kernel criteria. It will use generic GPU kernel as fallback when running on GPU\n"
          ],
          "name": "stdout"
        },
        {
          "output_type": "stream",
          "text": [
            "/usr/local/lib/python3.7/dist-packages/tensorflow/python/keras/engine/training.py:2325: UserWarning: `Model.state_updates` will be removed in a future version. This property should not be used in TensorFlow 2.0, as `updates` are applied automatically.\n",
            "  warnings.warn('`Model.state_updates` will be removed in a future version. '\n"
          ],
          "name": "stderr"
        },
        {
          "output_type": "display_data",
          "data": {
            "image/png": "[encoded data removed]",
            "text/plain": [
              "<Figure size 720x432 with 1 Axes>"
            ]
          },
          "metadata": {
            "tags": [],
            "needs_background": "light"
          }
        }
      ]
    },
    {
      "cell_type": "code",
      "metadata": {
        "colab": {
          "base_uri": "https://localhost:8080/"
        },
        "id": "hIKi-tGfj_2y",
        "outputId": "21275766-cf64-4bbf-85b1-ab8939f4c244"
      },
      "source": [
        "from sklearn.model_selection import GridSearchCV\n",
        "from keras.wrappers.scikit_learn import KerasClassifier\n",
        "model = KerasClassifier(build_fn=Model_Arch, epochs=100, batch_size=10, verbose=0)\n",
        "optimizer = ['SGD', 'RMSprop', 'Adagrad', 'Adadelta', 'Adam', 'Adamax', 'Nadam']\n",
        "activation = ['relu', 'relu','ELUs']\n",
        "momentum = [.5,.7,.9]\n",
        "lr = [0.1, .001, 0.005 ]\n",
        "param_grid = dict(activation = activation)\n",
        "grid = GridSearchCV(estimator=model, param_grid=param_grid, n_jobs=-1, cv=3)\n",
        "grid_result = grid.fit(X1_train, Y_train)\n",
        "# summarize results\n",
        "print(\"Best: %f using %s\" % (grid_result.best_score_, grid_result.best_params_))\n",
        "means = grid_result.cv_results_['mean_test_score']\n",
        "stds = grid_result.cv_results_['std_test_score']\n",
        "params = grid_result.cv_results_['params']\n",
        "for mean, stdev, param in zip(means, stds, params):\n",
        "    print(\"%f (%f) with: %r\" % (mean, stdev, param))"
      ],
      "execution_count": null,
      "outputs": [
        {
          "output_type": "stream",
          "text": [
            "WARNING:tensorflow:Layer lstm_35 will not use cuDNN kernel since it doesn't meet the cuDNN kernel criteria. It will use generic GPU kernel as fallback when running on GPU\n",
            "WARNING:tensorflow:Layer lstm_36 will not use cuDNN kernel since it doesn't meet the cuDNN kernel criteria. It will use generic GPU kernel as fallback when running on GPU\n",
            "WARNING:tensorflow:Layer lstm_37 will not use cuDNN kernel since it doesn't meet the cuDNN kernel criteria. It will use generic GPU kernel as fallback when running on GPU\n",
            "Best: 0.063492 using {'activation': 'relu'}\n",
            "0.011905 (0.016836) with: {'activation': 'tanh'}\n",
            "0.063492 (0.089791) with: {'activation': 'relu'}\n",
            "nan (nan) with: {'activation': 'ELUs'}\n"
          ],
          "name": "stdout"
        }
      ]
    }
  ]
}